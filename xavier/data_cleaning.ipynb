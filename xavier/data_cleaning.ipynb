{
 "cells": [
  {
   "cell_type": "code",
   "execution_count": 1,
   "metadata": {},
   "outputs": [],
   "source": [
    "import numpy as np\n",
    "import pandas as pd\n",
    "import matplotlib.pyplot as plt\n",
    "import seaborn as sns\n",
    "from datetime import datetime\n",
    "%matplotlib inline"
   ]
  },
  {
   "cell_type": "code",
   "execution_count": 2,
   "metadata": {},
   "outputs": [],
   "source": [
    "data = pd.read_csv('../data/shrimp_dataset.csv')"
   ]
  },
  {
   "cell_type": "code",
   "execution_count": 3,
   "metadata": {},
   "outputs": [
    {
     "data": {
      "text/html": [
       "<div>\n",
       "<style scoped>\n",
       "    .dataframe tbody tr th:only-of-type {\n",
       "        vertical-align: middle;\n",
       "    }\n",
       "\n",
       "    .dataframe tbody tr th {\n",
       "        vertical-align: top;\n",
       "    }\n",
       "\n",
       "    .dataframe thead th {\n",
       "        text-align: right;\n",
       "    }\n",
       "</style>\n",
       "<table border=\"1\" class=\"dataframe\">\n",
       "  <thead>\n",
       "    <tr style=\"text-align: right;\">\n",
       "      <th></th>\n",
       "      <th>date</th>\n",
       "      <th>pool_id</th>\n",
       "      <th>day</th>\n",
       "      <th>shrimp_survival_proportion</th>\n",
       "      <th>shrimp_population</th>\n",
       "      <th>shrimp_grown</th>\n",
       "      <th>shrimp_biomass</th>\n",
       "      <th>food_amount</th>\n",
       "      <th>food_type</th>\n",
       "      <th>feeder_type</th>\n",
       "    </tr>\n",
       "  </thead>\n",
       "  <tbody>\n",
       "    <tr>\n",
       "      <td>0</td>\n",
       "      <td>22/06/19</td>\n",
       "      <td>2</td>\n",
       "      <td>-1</td>\n",
       "      <td>100.00 %</td>\n",
       "      <td>780000.0</td>\n",
       "      <td>0.18</td>\n",
       "      <td>140.4</td>\n",
       "      <td>0.0</td>\n",
       "      <td>NaN</td>\n",
       "      <td>NaN</td>\n",
       "    </tr>\n",
       "    <tr>\n",
       "      <td>1</td>\n",
       "      <td>23/06/19</td>\n",
       "      <td>2</td>\n",
       "      <td>1</td>\n",
       "      <td>98.00 %</td>\n",
       "      <td>764400.0</td>\n",
       "      <td>0.18</td>\n",
       "      <td>137.6</td>\n",
       "      <td>15.0</td>\n",
       "      <td>NW 38 % # 3</td>\n",
       "      <td>Boleo</td>\n",
       "    </tr>\n",
       "    <tr>\n",
       "      <td>2</td>\n",
       "      <td>24/06/19</td>\n",
       "      <td>2</td>\n",
       "      <td>2</td>\n",
       "      <td>97.75 %</td>\n",
       "      <td>762450.0</td>\n",
       "      <td>0.24</td>\n",
       "      <td>183.0</td>\n",
       "      <td>35.0</td>\n",
       "      <td>NW 38 % # 3</td>\n",
       "      <td>Boleo</td>\n",
       "    </tr>\n",
       "  </tbody>\n",
       "</table>\n",
       "</div>"
      ],
      "text/plain": [
       "       date  pool_id  day shrimp_survival_proportion  shrimp_population  \\\n",
       "0  22/06/19        2   -1                   100.00 %           780000.0   \n",
       "1  23/06/19        2    1                    98.00 %           764400.0   \n",
       "2  24/06/19        2    2                    97.75 %           762450.0   \n",
       "\n",
       "   shrimp_grown  shrimp_biomass  food_amount    food_type feeder_type  \n",
       "0          0.18           140.4          0.0          NaN         NaN  \n",
       "1          0.18           137.6         15.0  NW 38 % # 3       Boleo  \n",
       "2          0.24           183.0         35.0  NW 38 % # 3       Boleo  "
      ]
     },
     "execution_count": 3,
     "metadata": {},
     "output_type": "execute_result"
    }
   ],
   "source": [
    "data.head(3)"
   ]
  },
  {
   "cell_type": "code",
   "execution_count": 4,
   "metadata": {},
   "outputs": [
    {
     "name": "stdout",
     "output_type": "stream",
     "text": [
      "<class 'pandas.core.frame.DataFrame'>\n",
      "RangeIndex: 955 entries, 0 to 954\n",
      "Data columns (total 10 columns):\n",
      "date                          955 non-null object\n",
      "pool_id                       955 non-null int64\n",
      "day                           955 non-null int64\n",
      "shrimp_survival_proportion    955 non-null object\n",
      "shrimp_population             955 non-null float64\n",
      "shrimp_grown                  952 non-null float64\n",
      "shrimp_biomass                955 non-null float64\n",
      "food_amount                   954 non-null float64\n",
      "food_type                     945 non-null object\n",
      "feeder_type                   945 non-null object\n",
      "dtypes: float64(4), int64(2), object(4)\n",
      "memory usage: 74.7+ KB\n"
     ]
    }
   ],
   "source": [
    "data.info()"
   ]
  },
  {
   "cell_type": "markdown",
   "metadata": {},
   "source": [
    "- Quitar símbolo '%' de los valores de 'shrimp_survival_proportion' y acotarlos entre 0 y 1.\n",
    "\n",
    "- Convertir columna 'date' de tipo 'object' a 'datetime'."
   ]
  },
  {
   "cell_type": "code",
   "execution_count": 5,
   "metadata": {},
   "outputs": [],
   "source": [
    "data.shrimp_survival_proportion = pd.to_numeric(data.shrimp_survival_proportion.str[:-2])/100\n",
    "data.date = pd.to_datetime(data.date, format='%d/%m/%y')"
   ]
  },
  {
   "cell_type": "markdown",
   "metadata": {},
   "source": [
    "- Convertir 'pool_id' a 'object' y 'shrimp_population' a 'int'."
   ]
  },
  {
   "cell_type": "code",
   "execution_count": 6,
   "metadata": {},
   "outputs": [],
   "source": [
    "data = data.astype({'pool_id': 'object', 'shrimp_population': 'int'})"
   ]
  },
  {
   "cell_type": "code",
   "execution_count": 7,
   "metadata": {},
   "outputs": [
    {
     "data": {
      "text/html": [
       "<div>\n",
       "<style scoped>\n",
       "    .dataframe tbody tr th:only-of-type {\n",
       "        vertical-align: middle;\n",
       "    }\n",
       "\n",
       "    .dataframe tbody tr th {\n",
       "        vertical-align: top;\n",
       "    }\n",
       "\n",
       "    .dataframe thead th {\n",
       "        text-align: right;\n",
       "    }\n",
       "</style>\n",
       "<table border=\"1\" class=\"dataframe\">\n",
       "  <thead>\n",
       "    <tr style=\"text-align: right;\">\n",
       "      <th></th>\n",
       "      <th>date</th>\n",
       "      <th>pool_id</th>\n",
       "      <th>day</th>\n",
       "      <th>shrimp_survival_proportion</th>\n",
       "      <th>shrimp_population</th>\n",
       "      <th>shrimp_grown</th>\n",
       "      <th>shrimp_biomass</th>\n",
       "      <th>food_amount</th>\n",
       "      <th>food_type</th>\n",
       "      <th>feeder_type</th>\n",
       "    </tr>\n",
       "  </thead>\n",
       "  <tbody>\n",
       "    <tr>\n",
       "      <td>0</td>\n",
       "      <td>2019-06-22</td>\n",
       "      <td>2</td>\n",
       "      <td>-1</td>\n",
       "      <td>1.0000</td>\n",
       "      <td>780000</td>\n",
       "      <td>0.18</td>\n",
       "      <td>140.4</td>\n",
       "      <td>0.0</td>\n",
       "      <td>NaN</td>\n",
       "      <td>NaN</td>\n",
       "    </tr>\n",
       "    <tr>\n",
       "      <td>1</td>\n",
       "      <td>2019-06-23</td>\n",
       "      <td>2</td>\n",
       "      <td>1</td>\n",
       "      <td>0.9800</td>\n",
       "      <td>764400</td>\n",
       "      <td>0.18</td>\n",
       "      <td>137.6</td>\n",
       "      <td>15.0</td>\n",
       "      <td>NW 38 % # 3</td>\n",
       "      <td>Boleo</td>\n",
       "    </tr>\n",
       "    <tr>\n",
       "      <td>2</td>\n",
       "      <td>2019-06-24</td>\n",
       "      <td>2</td>\n",
       "      <td>2</td>\n",
       "      <td>0.9775</td>\n",
       "      <td>762450</td>\n",
       "      <td>0.24</td>\n",
       "      <td>183.0</td>\n",
       "      <td>35.0</td>\n",
       "      <td>NW 38 % # 3</td>\n",
       "      <td>Boleo</td>\n",
       "    </tr>\n",
       "    <tr>\n",
       "      <td>3</td>\n",
       "      <td>2019-06-25</td>\n",
       "      <td>2</td>\n",
       "      <td>3</td>\n",
       "      <td>0.9750</td>\n",
       "      <td>760500</td>\n",
       "      <td>0.30</td>\n",
       "      <td>228.2</td>\n",
       "      <td>60.0</td>\n",
       "      <td>NW 38 % # 3</td>\n",
       "      <td>Boleo</td>\n",
       "    </tr>\n",
       "    <tr>\n",
       "      <td>4</td>\n",
       "      <td>2019-06-26</td>\n",
       "      <td>2</td>\n",
       "      <td>4</td>\n",
       "      <td>0.9725</td>\n",
       "      <td>758550</td>\n",
       "      <td>0.37</td>\n",
       "      <td>280.7</td>\n",
       "      <td>40.0</td>\n",
       "      <td>NW 38 % # 3</td>\n",
       "      <td>Boleo</td>\n",
       "    </tr>\n",
       "  </tbody>\n",
       "</table>\n",
       "</div>"
      ],
      "text/plain": [
       "        date pool_id  day  shrimp_survival_proportion  shrimp_population  \\\n",
       "0 2019-06-22       2   -1                      1.0000             780000   \n",
       "1 2019-06-23       2    1                      0.9800             764400   \n",
       "2 2019-06-24       2    2                      0.9775             762450   \n",
       "3 2019-06-25       2    3                      0.9750             760500   \n",
       "4 2019-06-26       2    4                      0.9725             758550   \n",
       "\n",
       "   shrimp_grown  shrimp_biomass  food_amount    food_type feeder_type  \n",
       "0          0.18           140.4          0.0          NaN         NaN  \n",
       "1          0.18           137.6         15.0  NW 38 % # 3       Boleo  \n",
       "2          0.24           183.0         35.0  NW 38 % # 3       Boleo  \n",
       "3          0.30           228.2         60.0  NW 38 % # 3       Boleo  \n",
       "4          0.37           280.7         40.0  NW 38 % # 3       Boleo  "
      ]
     },
     "execution_count": 7,
     "metadata": {},
     "output_type": "execute_result"
    }
   ],
   "source": [
    "data.head()"
   ]
  },
  {
   "cell_type": "code",
   "execution_count": 8,
   "metadata": {},
   "outputs": [
    {
     "name": "stdout",
     "output_type": "stream",
     "text": [
      "<class 'pandas.core.frame.DataFrame'>\n",
      "RangeIndex: 955 entries, 0 to 954\n",
      "Data columns (total 10 columns):\n",
      "date                          955 non-null datetime64[ns]\n",
      "pool_id                       955 non-null object\n",
      "day                           955 non-null int64\n",
      "shrimp_survival_proportion    955 non-null float64\n",
      "shrimp_population             955 non-null int64\n",
      "shrimp_grown                  952 non-null float64\n",
      "shrimp_biomass                955 non-null float64\n",
      "food_amount                   954 non-null float64\n",
      "food_type                     945 non-null object\n",
      "feeder_type                   945 non-null object\n",
      "dtypes: datetime64[ns](1), float64(4), int64(2), object(3)\n",
      "memory usage: 74.7+ KB\n"
     ]
    }
   ],
   "source": [
    "data.info()"
   ]
  },
  {
   "cell_type": "markdown",
   "metadata": {},
   "source": [
    "Existen 955 registros, 10 piscinas.\n",
    "\n",
    "1. Las columnas 'food_type' y 'feeder_type' tienen 10 valores nulos. Esos (10) registros corresponden al primer día del ciclo de cada piscina (10). Nada que hacer.\n",
    "\n",
    "2. La columna 'food_amount' tiene 1 valor nulo. En esta variable, al primero día de cada ciclo de cada piscina le corresponde el valor 0. Si el valor nulo corresponde al primer día de un ciclo, asignar 0. Si no, revisar la serie de tiempo de esa variable para esa piscina y asignar un valor tomando en cuenta su cambio en el tiempo.\n",
    "\n",
    "3. La columna 'shrimp_grown' tiene 3 valores nulos. Esta columna no debería tener valores 0, ni valores nulos. Revisar la(s) serie(s) de tiempo de esa variable para la(s) piscina(s) con el problema. Se espera que el cambio en esa variable sea bastante gradual. En tal caso, asignar el promedio entre valor anterior y el valor siguiente al valor nulo."
   ]
  },
  {
   "cell_type": "markdown",
   "metadata": {},
   "source": [
    "**Corrigiendo punto 2...**"
   ]
  },
  {
   "cell_type": "code",
   "execution_count": 9,
   "metadata": {},
   "outputs": [
    {
     "data": {
      "text/html": [
       "<div>\n",
       "<style scoped>\n",
       "    .dataframe tbody tr th:only-of-type {\n",
       "        vertical-align: middle;\n",
       "    }\n",
       "\n",
       "    .dataframe tbody tr th {\n",
       "        vertical-align: top;\n",
       "    }\n",
       "\n",
       "    .dataframe thead th {\n",
       "        text-align: right;\n",
       "    }\n",
       "</style>\n",
       "<table border=\"1\" class=\"dataframe\">\n",
       "  <thead>\n",
       "    <tr style=\"text-align: right;\">\n",
       "      <th></th>\n",
       "      <th>date</th>\n",
       "      <th>pool_id</th>\n",
       "      <th>day</th>\n",
       "      <th>shrimp_survival_proportion</th>\n",
       "      <th>shrimp_population</th>\n",
       "      <th>shrimp_grown</th>\n",
       "      <th>shrimp_biomass</th>\n",
       "      <th>food_amount</th>\n",
       "      <th>food_type</th>\n",
       "      <th>feeder_type</th>\n",
       "    </tr>\n",
       "  </thead>\n",
       "  <tbody>\n",
       "    <tr>\n",
       "      <td>400</td>\n",
       "      <td>2019-10-24</td>\n",
       "      <td>5</td>\n",
       "      <td>88</td>\n",
       "      <td>0.643</td>\n",
       "      <td>431903</td>\n",
       "      <td>22.7</td>\n",
       "      <td>9804.2</td>\n",
       "      <td>NaN</td>\n",
       "      <td>OPL 35 % # 5</td>\n",
       "      <td>AA/platos</td>\n",
       "    </tr>\n",
       "  </tbody>\n",
       "</table>\n",
       "</div>"
      ],
      "text/plain": [
       "          date pool_id  day  shrimp_survival_proportion  shrimp_population  \\\n",
       "400 2019-10-24       5   88                       0.643             431903   \n",
       "\n",
       "     shrimp_grown  shrimp_biomass  food_amount     food_type feeder_type  \n",
       "400          22.7          9804.2          NaN  OPL 35 % # 5   AA/platos  "
      ]
     },
     "execution_count": 9,
     "metadata": {},
     "output_type": "execute_result"
    }
   ],
   "source": [
    "data[data.food_amount.isnull()]"
   ]
  },
  {
   "cell_type": "markdown",
   "metadata": {},
   "source": [
    "El valor nulo se encuentra en el día 88 del ciclo, así que no es válido asignar 0. Hay que revisar la serie de tiempo de 'food_amount' para la piscina 5."
   ]
  },
  {
   "cell_type": "code",
   "execution_count": 10,
   "metadata": {},
   "outputs": [
    {
     "data": {
      "text/plain": [
       "<matplotlib.axes._subplots.AxesSubplot at 0x7f84e4f79e48>"
      ]
     },
     "execution_count": 10,
     "metadata": {},
     "output_type": "execute_result"
    },
    {
     "data": {
      "image/png": "[encoded data removed]",
      "text/plain": [
       "<Figure size 1080x360 with 1 Axes>"
      ]
     },
     "metadata": {
      "needs_background": "light"
     },
     "output_type": "display_data"
    }
   ],
   "source": [
    "data[data.pool_id == 5].set_index('day')[['food_amount']].plot(figsize=(15, 5))"
   ]
  },
  {
   "cell_type": "markdown",
   "metadata": {},
   "source": [
    "Al parecer el ciclo de engorde para esa psicina no llega 90 días. Posiblemente el valor nulo esté en el último día (día 88)."
   ]
  },
  {
   "cell_type": "code",
   "execution_count": 11,
   "metadata": {},
   "outputs": [
    {
     "data": {
      "text/plain": [
       "88"
      ]
     },
     "execution_count": 11,
     "metadata": {},
     "output_type": "execute_result"
    }
   ],
   "source": [
    "data[data.pool_id == 5].day.max()"
   ]
  },
  {
   "cell_type": "markdown",
   "metadata": {},
   "source": [
    "Efectivamente, el último día es el 88.\n",
    "\n",
    "Por lo observado en la serie de tiempo, los valores más altos en cada subida suelen mantenerse por más de 1 día (lo que se observa como líneas rectas horizontales en las 'cúspides'). Si a eso se agrega que los días 85, 86 y 87 ya forman esa línea recta, se decide asignar ese mismo valor para el día 88.\n",
    "\n",
    "Se reemplaza el valor del registro 400, por el valor del registro 399."
   ]
  },
  {
   "cell_type": "code",
   "execution_count": 12,
   "metadata": {},
   "outputs": [],
   "source": [
    "data.loc[400, 'food_amount'] = data.loc[399, 'food_amount']"
   ]
  },
  {
   "cell_type": "markdown",
   "metadata": {},
   "source": [
    "**Corrigiendo punto 3...**"
   ]
  },
  {
   "cell_type": "code",
   "execution_count": 13,
   "metadata": {},
   "outputs": [
    {
     "data": {
      "text/html": [
       "<div>\n",
       "<style scoped>\n",
       "    .dataframe tbody tr th:only-of-type {\n",
       "        vertical-align: middle;\n",
       "    }\n",
       "\n",
       "    .dataframe tbody tr th {\n",
       "        vertical-align: top;\n",
       "    }\n",
       "\n",
       "    .dataframe thead th {\n",
       "        text-align: right;\n",
       "    }\n",
       "</style>\n",
       "<table border=\"1\" class=\"dataframe\">\n",
       "  <thead>\n",
       "    <tr style=\"text-align: right;\">\n",
       "      <th></th>\n",
       "      <th>date</th>\n",
       "      <th>pool_id</th>\n",
       "      <th>day</th>\n",
       "      <th>shrimp_survival_proportion</th>\n",
       "      <th>shrimp_population</th>\n",
       "      <th>shrimp_grown</th>\n",
       "      <th>shrimp_biomass</th>\n",
       "      <th>food_amount</th>\n",
       "      <th>food_type</th>\n",
       "      <th>feeder_type</th>\n",
       "    </tr>\n",
       "  </thead>\n",
       "  <tbody>\n",
       "    <tr>\n",
       "      <td>868</td>\n",
       "      <td>2019-07-29</td>\n",
       "      <td>10</td>\n",
       "      <td>1</td>\n",
       "      <td>0.9800</td>\n",
       "      <td>914046</td>\n",
       "      <td>NaN</td>\n",
       "      <td>0.0</td>\n",
       "      <td>50.0</td>\n",
       "      <td>NW 38 % # 3</td>\n",
       "      <td>Boleo</td>\n",
       "    </tr>\n",
       "    <tr>\n",
       "      <td>869</td>\n",
       "      <td>2019-07-30</td>\n",
       "      <td>10</td>\n",
       "      <td>2</td>\n",
       "      <td>0.9775</td>\n",
       "      <td>911714</td>\n",
       "      <td>NaN</td>\n",
       "      <td>0.0</td>\n",
       "      <td>50.0</td>\n",
       "      <td>NW 38 % # 3</td>\n",
       "      <td>Boleo</td>\n",
       "    </tr>\n",
       "    <tr>\n",
       "      <td>870</td>\n",
       "      <td>2019-07-31</td>\n",
       "      <td>10</td>\n",
       "      <td>3</td>\n",
       "      <td>0.9750</td>\n",
       "      <td>909382</td>\n",
       "      <td>NaN</td>\n",
       "      <td>0.0</td>\n",
       "      <td>60.0</td>\n",
       "      <td>NW 38 % # 3</td>\n",
       "      <td>Boleo</td>\n",
       "    </tr>\n",
       "  </tbody>\n",
       "</table>\n",
       "</div>"
      ],
      "text/plain": [
       "          date pool_id  day  shrimp_survival_proportion  shrimp_population  \\\n",
       "868 2019-07-29      10    1                      0.9800             914046   \n",
       "869 2019-07-30      10    2                      0.9775             911714   \n",
       "870 2019-07-31      10    3                      0.9750             909382   \n",
       "\n",
       "     shrimp_grown  shrimp_biomass  food_amount    food_type feeder_type  \n",
       "868           NaN             0.0         50.0  NW 38 % # 3       Boleo  \n",
       "869           NaN             0.0         50.0  NW 38 % # 3       Boleo  \n",
       "870           NaN             0.0         60.0  NW 38 % # 3       Boleo  "
      ]
     },
     "execution_count": 13,
     "metadata": {},
     "output_type": "execute_result"
    }
   ],
   "source": [
    "data[data.shrimp_grown.isnull()]"
   ]
  },
  {
   "cell_type": "markdown",
   "metadata": {},
   "source": [
    "El problema lo tiene la piscina 10 y ocurre en los 3 primeros días del ciclo.\n",
    "\n",
    "Veámos qué pasa en el día -1 y qué pasa en el día 4."
   ]
  },
  {
   "cell_type": "code",
   "execution_count": 14,
   "metadata": {},
   "outputs": [
    {
     "data": {
      "text/html": [
       "<div>\n",
       "<style scoped>\n",
       "    .dataframe tbody tr th:only-of-type {\n",
       "        vertical-align: middle;\n",
       "    }\n",
       "\n",
       "    .dataframe tbody tr th {\n",
       "        vertical-align: top;\n",
       "    }\n",
       "\n",
       "    .dataframe thead th {\n",
       "        text-align: right;\n",
       "    }\n",
       "</style>\n",
       "<table border=\"1\" class=\"dataframe\">\n",
       "  <thead>\n",
       "    <tr style=\"text-align: right;\">\n",
       "      <th></th>\n",
       "      <th>day</th>\n",
       "      <th>shrimp_grown</th>\n",
       "    </tr>\n",
       "  </thead>\n",
       "  <tbody>\n",
       "    <tr>\n",
       "      <td>867</td>\n",
       "      <td>-1</td>\n",
       "      <td>0.20</td>\n",
       "    </tr>\n",
       "    <tr>\n",
       "      <td>868</td>\n",
       "      <td>1</td>\n",
       "      <td>NaN</td>\n",
       "    </tr>\n",
       "    <tr>\n",
       "      <td>869</td>\n",
       "      <td>2</td>\n",
       "      <td>NaN</td>\n",
       "    </tr>\n",
       "    <tr>\n",
       "      <td>870</td>\n",
       "      <td>3</td>\n",
       "      <td>NaN</td>\n",
       "    </tr>\n",
       "    <tr>\n",
       "      <td>871</td>\n",
       "      <td>4</td>\n",
       "      <td>0.55</td>\n",
       "    </tr>\n",
       "  </tbody>\n",
       "</table>\n",
       "</div>"
      ],
      "text/plain": [
       "     day  shrimp_grown\n",
       "867   -1          0.20\n",
       "868    1           NaN\n",
       "869    2           NaN\n",
       "870    3           NaN\n",
       "871    4          0.55"
      ]
     },
     "execution_count": 14,
     "metadata": {},
     "output_type": "execute_result"
    }
   ],
   "source": [
    "data.loc[867:871, ['day', 'shrimp_grown']]"
   ]
  },
  {
   "cell_type": "code",
   "execution_count": 15,
   "metadata": {},
   "outputs": [
    {
     "data": {
      "text/plain": [
       "<matplotlib.axes._subplots.AxesSubplot at 0x7f84e4f6af60>"
      ]
     },
     "execution_count": 15,
     "metadata": {},
     "output_type": "execute_result"
    },
    {
     "data": {
      "image/png": "[encoded data removed]",
      "text/plain": [
       "<Figure size 1080x360 with 1 Axes>"
      ]
     },
     "metadata": {
      "needs_background": "light"
     },
     "output_type": "display_data"
    }
   ],
   "source": [
    "data[data.pool_id == 10]['shrimp_grown'].plot(figsize=(15, 5))"
   ]
  },
  {
   "cell_type": "markdown",
   "metadata": {},
   "source": [
    "Como se esperaba, el crecimiento es bastante gradual, así que los datos que se asignen a los valores nulos deben respetar ese comportamiento."
   ]
  },
  {
   "cell_type": "code",
   "execution_count": 16,
   "metadata": {},
   "outputs": [
    {
     "data": {
      "text/html": [
       "<div>\n",
       "<style scoped>\n",
       "    .dataframe tbody tr th:only-of-type {\n",
       "        vertical-align: middle;\n",
       "    }\n",
       "\n",
       "    .dataframe tbody tr th {\n",
       "        vertical-align: top;\n",
       "    }\n",
       "\n",
       "    .dataframe thead th {\n",
       "        text-align: right;\n",
       "    }\n",
       "</style>\n",
       "<table border=\"1\" class=\"dataframe\">\n",
       "  <thead>\n",
       "    <tr style=\"text-align: right;\">\n",
       "      <th></th>\n",
       "      <th>day</th>\n",
       "      <th>shrimp_grown</th>\n",
       "    </tr>\n",
       "  </thead>\n",
       "  <tbody>\n",
       "    <tr>\n",
       "      <td>867</td>\n",
       "      <td>-1</td>\n",
       "      <td>0.20</td>\n",
       "    </tr>\n",
       "    <tr>\n",
       "      <td>868</td>\n",
       "      <td>1</td>\n",
       "      <td>NaN</td>\n",
       "    </tr>\n",
       "    <tr>\n",
       "      <td>869</td>\n",
       "      <td>2</td>\n",
       "      <td>NaN</td>\n",
       "    </tr>\n",
       "    <tr>\n",
       "      <td>870</td>\n",
       "      <td>3</td>\n",
       "      <td>NaN</td>\n",
       "    </tr>\n",
       "    <tr>\n",
       "      <td>871</td>\n",
       "      <td>4</td>\n",
       "      <td>0.55</td>\n",
       "    </tr>\n",
       "  </tbody>\n",
       "</table>\n",
       "</div>"
      ],
      "text/plain": [
       "     day  shrimp_grown\n",
       "867   -1          0.20\n",
       "868    1           NaN\n",
       "869    2           NaN\n",
       "870    3           NaN\n",
       "871    4          0.55"
      ]
     },
     "execution_count": 16,
     "metadata": {},
     "output_type": "execute_result"
    }
   ],
   "source": [
    "data.loc[867:871, ['day', 'shrimp_grown']]"
   ]
  },
  {
   "cell_type": "markdown",
   "metadata": {},
   "source": [
    "Al registro central (registro 869, día 2) se le asignará el promedio de los registros extremos (registros 867 y 871 o días -1 y 4)."
   ]
  },
  {
   "cell_type": "code",
   "execution_count": 17,
   "metadata": {},
   "outputs": [],
   "source": [
    "data.loc[869, 'shrimp_grown'] = data.loc[[867, 871], 'shrimp_grown'].mean().round(2)"
   ]
  },
  {
   "cell_type": "code",
   "execution_count": 18,
   "metadata": {},
   "outputs": [
    {
     "data": {
      "text/html": [
       "<div>\n",
       "<style scoped>\n",
       "    .dataframe tbody tr th:only-of-type {\n",
       "        vertical-align: middle;\n",
       "    }\n",
       "\n",
       "    .dataframe tbody tr th {\n",
       "        vertical-align: top;\n",
       "    }\n",
       "\n",
       "    .dataframe thead th {\n",
       "        text-align: right;\n",
       "    }\n",
       "</style>\n",
       "<table border=\"1\" class=\"dataframe\">\n",
       "  <thead>\n",
       "    <tr style=\"text-align: right;\">\n",
       "      <th></th>\n",
       "      <th>day</th>\n",
       "      <th>shrimp_grown</th>\n",
       "    </tr>\n",
       "  </thead>\n",
       "  <tbody>\n",
       "    <tr>\n",
       "      <td>867</td>\n",
       "      <td>-1</td>\n",
       "      <td>0.20</td>\n",
       "    </tr>\n",
       "    <tr>\n",
       "      <td>868</td>\n",
       "      <td>1</td>\n",
       "      <td>NaN</td>\n",
       "    </tr>\n",
       "    <tr>\n",
       "      <td>869</td>\n",
       "      <td>2</td>\n",
       "      <td>0.38</td>\n",
       "    </tr>\n",
       "    <tr>\n",
       "      <td>870</td>\n",
       "      <td>3</td>\n",
       "      <td>NaN</td>\n",
       "    </tr>\n",
       "    <tr>\n",
       "      <td>871</td>\n",
       "      <td>4</td>\n",
       "      <td>0.55</td>\n",
       "    </tr>\n",
       "  </tbody>\n",
       "</table>\n",
       "</div>"
      ],
      "text/plain": [
       "     day  shrimp_grown\n",
       "867   -1          0.20\n",
       "868    1           NaN\n",
       "869    2          0.38\n",
       "870    3           NaN\n",
       "871    4          0.55"
      ]
     },
     "execution_count": 18,
     "metadata": {},
     "output_type": "execute_result"
    }
   ],
   "source": [
    "data.loc[867:871, ['day', 'shrimp_grown']]"
   ]
  },
  {
   "cell_type": "markdown",
   "metadata": {},
   "source": [
    "Al registro 868 se le asignará el promedio de sus adjacentes (867 y 869).\n",
    "\n",
    "Al registro 870 se le asignará el promedio de sus adjacentes (869 y 871)."
   ]
  },
  {
   "cell_type": "code",
   "execution_count": 19,
   "metadata": {},
   "outputs": [],
   "source": [
    "data.loc[868, 'shrimp_grown'] = data.loc[[867, 869], 'shrimp_grown'].mean().round(2)\n",
    "data.loc[870, 'shrimp_grown'] = data.loc[[869, 871], 'shrimp_grown'].mean().round(2)"
   ]
  },
  {
   "cell_type": "code",
   "execution_count": 20,
   "metadata": {},
   "outputs": [
    {
     "data": {
      "text/html": [
       "<div>\n",
       "<style scoped>\n",
       "    .dataframe tbody tr th:only-of-type {\n",
       "        vertical-align: middle;\n",
       "    }\n",
       "\n",
       "    .dataframe tbody tr th {\n",
       "        vertical-align: top;\n",
       "    }\n",
       "\n",
       "    .dataframe thead th {\n",
       "        text-align: right;\n",
       "    }\n",
       "</style>\n",
       "<table border=\"1\" class=\"dataframe\">\n",
       "  <thead>\n",
       "    <tr style=\"text-align: right;\">\n",
       "      <th></th>\n",
       "      <th>day</th>\n",
       "      <th>shrimp_grown</th>\n",
       "    </tr>\n",
       "  </thead>\n",
       "  <tbody>\n",
       "    <tr>\n",
       "      <td>867</td>\n",
       "      <td>-1</td>\n",
       "      <td>0.20</td>\n",
       "    </tr>\n",
       "    <tr>\n",
       "      <td>868</td>\n",
       "      <td>1</td>\n",
       "      <td>0.29</td>\n",
       "    </tr>\n",
       "    <tr>\n",
       "      <td>869</td>\n",
       "      <td>2</td>\n",
       "      <td>0.38</td>\n",
       "    </tr>\n",
       "    <tr>\n",
       "      <td>870</td>\n",
       "      <td>3</td>\n",
       "      <td>0.46</td>\n",
       "    </tr>\n",
       "    <tr>\n",
       "      <td>871</td>\n",
       "      <td>4</td>\n",
       "      <td>0.55</td>\n",
       "    </tr>\n",
       "  </tbody>\n",
       "</table>\n",
       "</div>"
      ],
      "text/plain": [
       "     day  shrimp_grown\n",
       "867   -1          0.20\n",
       "868    1          0.29\n",
       "869    2          0.38\n",
       "870    3          0.46\n",
       "871    4          0.55"
      ]
     },
     "execution_count": 20,
     "metadata": {},
     "output_type": "execute_result"
    }
   ],
   "source": [
    "data.loc[867:871, ['day', 'shrimp_grown']]"
   ]
  },
  {
   "cell_type": "markdown",
   "metadata": {},
   "source": [
    ":)"
   ]
  },
  {
   "cell_type": "code",
   "execution_count": 21,
   "metadata": {},
   "outputs": [
    {
     "data": {
      "text/plain": [
       "<matplotlib.axes._subplots.AxesSubplot at 0x7f84e4e00198>"
      ]
     },
     "execution_count": 21,
     "metadata": {},
     "output_type": "execute_result"
    },
    {
     "data": {
      "image/png": "[encoded data removed]",
      "text/plain": [
       "<Figure size 1080x360 with 1 Axes>"
      ]
     },
     "metadata": {
      "needs_background": "light"
     },
     "output_type": "display_data"
    }
   ],
   "source": [
    "data[data.pool_id == 10]['shrimp_grown'].plot(figsize=(15, 5))"
   ]
  },
  {
   "cell_type": "markdown",
   "metadata": {},
   "source": [
    ":)"
   ]
  },
  {
   "cell_type": "markdown",
   "metadata": {},
   "source": [
    "Revisemos si las variables categóricas tienen valores extraños."
   ]
  },
  {
   "cell_type": "code",
   "execution_count": 22,
   "metadata": {},
   "outputs": [
    {
     "data": {
      "text/plain": [
       "array([2, 3, 4, 5, 6, 7, 8, 11, 9, 10], dtype=object)"
      ]
     },
     "execution_count": 22,
     "metadata": {},
     "output_type": "execute_result"
    }
   ],
   "source": [
    "data.pool_id.unique()"
   ]
  },
  {
   "cell_type": "code",
   "execution_count": 23,
   "metadata": {},
   "outputs": [
    {
     "data": {
      "text/plain": [
       "array([nan, 'Boleo', 'Boleo/Platos', 'AA/platos'], dtype=object)"
      ]
     },
     "execution_count": 23,
     "metadata": {},
     "output_type": "execute_result"
    }
   ],
   "source": [
    "data.feeder_type.unique()"
   ]
  },
  {
   "cell_type": "code",
   "execution_count": 24,
   "metadata": {},
   "outputs": [
    {
     "data": {
      "text/plain": [
       "array([nan, 'NW 38 % # 3', 'NW 35 % # 4', 'OPL 35 % # 5', '2.34'],\n",
       "      dtype=object)"
      ]
     },
     "execution_count": 24,
     "metadata": {},
     "output_type": "execute_result"
    }
   ],
   "source": [
    "data.food_type.unique()"
   ]
  },
  {
   "cell_type": "markdown",
   "metadata": {},
   "source": [
    "'2.34' parece un valor extraño en comparación con el resto.\n",
    "\n",
    "Revisemos en cuántos y cuáles registros aparece."
   ]
  },
  {
   "cell_type": "code",
   "execution_count": 25,
   "metadata": {},
   "outputs": [
    {
     "data": {
      "text/html": [
       "<div>\n",
       "<style scoped>\n",
       "    .dataframe tbody tr th:only-of-type {\n",
       "        vertical-align: middle;\n",
       "    }\n",
       "\n",
       "    .dataframe tbody tr th {\n",
       "        vertical-align: top;\n",
       "    }\n",
       "\n",
       "    .dataframe thead th {\n",
       "        text-align: right;\n",
       "    }\n",
       "</style>\n",
       "<table border=\"1\" class=\"dataframe\">\n",
       "  <thead>\n",
       "    <tr style=\"text-align: right;\">\n",
       "      <th></th>\n",
       "      <th>date</th>\n",
       "      <th>pool_id</th>\n",
       "      <th>day</th>\n",
       "      <th>shrimp_survival_proportion</th>\n",
       "      <th>shrimp_population</th>\n",
       "      <th>shrimp_grown</th>\n",
       "      <th>shrimp_biomass</th>\n",
       "      <th>food_amount</th>\n",
       "      <th>food_type</th>\n",
       "      <th>feeder_type</th>\n",
       "    </tr>\n",
       "  </thead>\n",
       "  <tbody>\n",
       "    <tr>\n",
       "      <td>797</td>\n",
       "      <td>2019-08-13</td>\n",
       "      <td>9</td>\n",
       "      <td>19</td>\n",
       "      <td>0.92</td>\n",
       "      <td>410504</td>\n",
       "      <td>2.66</td>\n",
       "      <td>1091.94064</td>\n",
       "      <td>100.0</td>\n",
       "      <td>2.34</td>\n",
       "      <td>AA/platos</td>\n",
       "    </tr>\n",
       "  </tbody>\n",
       "</table>\n",
       "</div>"
      ],
      "text/plain": [
       "          date pool_id  day  shrimp_survival_proportion  shrimp_population  \\\n",
       "797 2019-08-13       9   19                        0.92             410504   \n",
       "\n",
       "     shrimp_grown  shrimp_biomass  food_amount food_type feeder_type  \n",
       "797          2.66      1091.94064        100.0      2.34   AA/platos  "
      ]
     },
     "execution_count": 25,
     "metadata": {},
     "output_type": "execute_result"
    }
   ],
   "source": [
    "data[data.food_type == '2.34']"
   ]
  },
  {
   "cell_type": "markdown",
   "metadata": {},
   "source": [
    "En 950 registros y 10 piscinas, este tipo de comida aparece solo 1 vez. Muy problablemente es un error humano al registrar la información."
   ]
  },
  {
   "cell_type": "code",
   "execution_count": 26,
   "metadata": {},
   "outputs": [
    {
     "data": {
      "text/html": [
       "<div>\n",
       "<style scoped>\n",
       "    .dataframe tbody tr th:only-of-type {\n",
       "        vertical-align: middle;\n",
       "    }\n",
       "\n",
       "    .dataframe tbody tr th {\n",
       "        vertical-align: top;\n",
       "    }\n",
       "\n",
       "    .dataframe thead th {\n",
       "        text-align: right;\n",
       "    }\n",
       "</style>\n",
       "<table border=\"1\" class=\"dataframe\">\n",
       "  <thead>\n",
       "    <tr style=\"text-align: right;\">\n",
       "      <th></th>\n",
       "      <th>date</th>\n",
       "      <th>pool_id</th>\n",
       "      <th>day</th>\n",
       "      <th>shrimp_survival_proportion</th>\n",
       "      <th>shrimp_population</th>\n",
       "      <th>shrimp_grown</th>\n",
       "      <th>shrimp_biomass</th>\n",
       "      <th>food_amount</th>\n",
       "      <th>food_type</th>\n",
       "      <th>feeder_type</th>\n",
       "    </tr>\n",
       "  </thead>\n",
       "  <tbody>\n",
       "    <tr>\n",
       "      <td>790</td>\n",
       "      <td>2019-08-06</td>\n",
       "      <td>9</td>\n",
       "      <td>12</td>\n",
       "      <td>0.9525</td>\n",
       "      <td>425005</td>\n",
       "      <td>1.45</td>\n",
       "      <td>616.257975</td>\n",
       "      <td>90.0</td>\n",
       "      <td>NW 35 % # 4</td>\n",
       "      <td>Boleo/Platos</td>\n",
       "    </tr>\n",
       "    <tr>\n",
       "      <td>791</td>\n",
       "      <td>2019-08-07</td>\n",
       "      <td>9</td>\n",
       "      <td>13</td>\n",
       "      <td>0.9500</td>\n",
       "      <td>423890</td>\n",
       "      <td>1.60</td>\n",
       "      <td>678.224000</td>\n",
       "      <td>90.0</td>\n",
       "      <td>NW 35 % # 4</td>\n",
       "      <td>Boleo/Platos</td>\n",
       "    </tr>\n",
       "    <tr>\n",
       "      <td>792</td>\n",
       "      <td>2019-08-08</td>\n",
       "      <td>9</td>\n",
       "      <td>14</td>\n",
       "      <td>0.9450</td>\n",
       "      <td>421659</td>\n",
       "      <td>1.86</td>\n",
       "      <td>784.285740</td>\n",
       "      <td>90.0</td>\n",
       "      <td>NW 35 % # 4</td>\n",
       "      <td>Boleo/Platos</td>\n",
       "    </tr>\n",
       "    <tr>\n",
       "      <td>793</td>\n",
       "      <td>2019-08-09</td>\n",
       "      <td>9</td>\n",
       "      <td>15</td>\n",
       "      <td>0.9400</td>\n",
       "      <td>419428</td>\n",
       "      <td>2.02</td>\n",
       "      <td>847.244560</td>\n",
       "      <td>100.0</td>\n",
       "      <td>OPL 35 % # 5</td>\n",
       "      <td>AA/platos</td>\n",
       "    </tr>\n",
       "    <tr>\n",
       "      <td>794</td>\n",
       "      <td>2019-08-10</td>\n",
       "      <td>9</td>\n",
       "      <td>16</td>\n",
       "      <td>0.9350</td>\n",
       "      <td>417197</td>\n",
       "      <td>2.18</td>\n",
       "      <td>909.489460</td>\n",
       "      <td>100.0</td>\n",
       "      <td>OPL 35 % # 5</td>\n",
       "      <td>AA/platos</td>\n",
       "    </tr>\n",
       "    <tr>\n",
       "      <td>795</td>\n",
       "      <td>2019-08-11</td>\n",
       "      <td>9</td>\n",
       "      <td>17</td>\n",
       "      <td>0.9300</td>\n",
       "      <td>414966</td>\n",
       "      <td>2.34</td>\n",
       "      <td>971.020440</td>\n",
       "      <td>0.0</td>\n",
       "      <td>OPL 35 % # 5</td>\n",
       "      <td>AA/platos</td>\n",
       "    </tr>\n",
       "    <tr>\n",
       "      <td>796</td>\n",
       "      <td>2019-08-12</td>\n",
       "      <td>9</td>\n",
       "      <td>18</td>\n",
       "      <td>0.9250</td>\n",
       "      <td>412735</td>\n",
       "      <td>2.50</td>\n",
       "      <td>1031.837500</td>\n",
       "      <td>100.0</td>\n",
       "      <td>OPL 35 % # 5</td>\n",
       "      <td>AA/platos</td>\n",
       "    </tr>\n",
       "    <tr>\n",
       "      <td>797</td>\n",
       "      <td>2019-08-13</td>\n",
       "      <td>9</td>\n",
       "      <td>19</td>\n",
       "      <td>0.9200</td>\n",
       "      <td>410504</td>\n",
       "      <td>2.66</td>\n",
       "      <td>1091.940640</td>\n",
       "      <td>100.0</td>\n",
       "      <td>2.34</td>\n",
       "      <td>AA/platos</td>\n",
       "    </tr>\n",
       "    <tr>\n",
       "      <td>798</td>\n",
       "      <td>2019-08-14</td>\n",
       "      <td>9</td>\n",
       "      <td>20</td>\n",
       "      <td>0.9150</td>\n",
       "      <td>408273</td>\n",
       "      <td>2.82</td>\n",
       "      <td>1151.329860</td>\n",
       "      <td>100.0</td>\n",
       "      <td>OPL 35 % # 5</td>\n",
       "      <td>AA/platos</td>\n",
       "    </tr>\n",
       "    <tr>\n",
       "      <td>799</td>\n",
       "      <td>2019-08-15</td>\n",
       "      <td>9</td>\n",
       "      <td>21</td>\n",
       "      <td>0.9100</td>\n",
       "      <td>406042</td>\n",
       "      <td>2.98</td>\n",
       "      <td>1210.005160</td>\n",
       "      <td>100.0</td>\n",
       "      <td>OPL 35 % # 5</td>\n",
       "      <td>AA/platos</td>\n",
       "    </tr>\n",
       "    <tr>\n",
       "      <td>800</td>\n",
       "      <td>2019-08-16</td>\n",
       "      <td>9</td>\n",
       "      <td>22</td>\n",
       "      <td>0.9050</td>\n",
       "      <td>403811</td>\n",
       "      <td>3.18</td>\n",
       "      <td>1284.118980</td>\n",
       "      <td>100.0</td>\n",
       "      <td>OPL 35 % # 5</td>\n",
       "      <td>AA/platos</td>\n",
       "    </tr>\n",
       "    <tr>\n",
       "      <td>801</td>\n",
       "      <td>2019-08-17</td>\n",
       "      <td>9</td>\n",
       "      <td>23</td>\n",
       "      <td>0.9000</td>\n",
       "      <td>401580</td>\n",
       "      <td>3.38</td>\n",
       "      <td>1357.340400</td>\n",
       "      <td>100.0</td>\n",
       "      <td>OPL 35 % # 5</td>\n",
       "      <td>AA/platos</td>\n",
       "    </tr>\n",
       "    <tr>\n",
       "      <td>802</td>\n",
       "      <td>2019-08-18</td>\n",
       "      <td>9</td>\n",
       "      <td>24</td>\n",
       "      <td>0.8950</td>\n",
       "      <td>399349</td>\n",
       "      <td>3.58</td>\n",
       "      <td>1429.669420</td>\n",
       "      <td>50.0</td>\n",
       "      <td>OPL 35 % # 5</td>\n",
       "      <td>AA/platos</td>\n",
       "    </tr>\n",
       "    <tr>\n",
       "      <td>803</td>\n",
       "      <td>2019-08-19</td>\n",
       "      <td>9</td>\n",
       "      <td>25</td>\n",
       "      <td>0.8900</td>\n",
       "      <td>397118</td>\n",
       "      <td>3.78</td>\n",
       "      <td>1501.106040</td>\n",
       "      <td>100.0</td>\n",
       "      <td>OPL 35 % # 5</td>\n",
       "      <td>AA/platos</td>\n",
       "    </tr>\n",
       "    <tr>\n",
       "      <td>804</td>\n",
       "      <td>2019-08-20</td>\n",
       "      <td>9</td>\n",
       "      <td>26</td>\n",
       "      <td>0.8850</td>\n",
       "      <td>394887</td>\n",
       "      <td>4.13</td>\n",
       "      <td>1630.883310</td>\n",
       "      <td>100.0</td>\n",
       "      <td>OPL 35 % # 5</td>\n",
       "      <td>AA/platos</td>\n",
       "    </tr>\n",
       "  </tbody>\n",
       "</table>\n",
       "</div>"
      ],
      "text/plain": [
       "          date pool_id  day  shrimp_survival_proportion  shrimp_population  \\\n",
       "790 2019-08-06       9   12                      0.9525             425005   \n",
       "791 2019-08-07       9   13                      0.9500             423890   \n",
       "792 2019-08-08       9   14                      0.9450             421659   \n",
       "793 2019-08-09       9   15                      0.9400             419428   \n",
       "794 2019-08-10       9   16                      0.9350             417197   \n",
       "795 2019-08-11       9   17                      0.9300             414966   \n",
       "796 2019-08-12       9   18                      0.9250             412735   \n",
       "797 2019-08-13       9   19                      0.9200             410504   \n",
       "798 2019-08-14       9   20                      0.9150             408273   \n",
       "799 2019-08-15       9   21                      0.9100             406042   \n",
       "800 2019-08-16       9   22                      0.9050             403811   \n",
       "801 2019-08-17       9   23                      0.9000             401580   \n",
       "802 2019-08-18       9   24                      0.8950             399349   \n",
       "803 2019-08-19       9   25                      0.8900             397118   \n",
       "804 2019-08-20       9   26                      0.8850             394887   \n",
       "\n",
       "     shrimp_grown  shrimp_biomass  food_amount     food_type   feeder_type  \n",
       "790          1.45      616.257975         90.0   NW 35 % # 4  Boleo/Platos  \n",
       "791          1.60      678.224000         90.0   NW 35 % # 4  Boleo/Platos  \n",
       "792          1.86      784.285740         90.0   NW 35 % # 4  Boleo/Platos  \n",
       "793          2.02      847.244560        100.0  OPL 35 % # 5     AA/platos  \n",
       "794          2.18      909.489460        100.0  OPL 35 % # 5     AA/platos  \n",
       "795          2.34      971.020440          0.0  OPL 35 % # 5     AA/platos  \n",
       "796          2.50     1031.837500        100.0  OPL 35 % # 5     AA/platos  \n",
       "797          2.66     1091.940640        100.0          2.34     AA/platos  \n",
       "798          2.82     1151.329860        100.0  OPL 35 % # 5     AA/platos  \n",
       "799          2.98     1210.005160        100.0  OPL 35 % # 5     AA/platos  \n",
       "800          3.18     1284.118980        100.0  OPL 35 % # 5     AA/platos  \n",
       "801          3.38     1357.340400        100.0  OPL 35 % # 5     AA/platos  \n",
       "802          3.58     1429.669420         50.0  OPL 35 % # 5     AA/platos  \n",
       "803          3.78     1501.106040        100.0  OPL 35 % # 5     AA/platos  \n",
       "804          4.13     1630.883310        100.0  OPL 35 % # 5     AA/platos  "
      ]
     },
     "execution_count": 26,
     "metadata": {},
     "output_type": "execute_result"
    }
   ],
   "source": [
    "data.iloc[790:805]"
   ]
  },
  {
   "cell_type": "markdown",
   "metadata": {},
   "source": [
    "Según sus registros adjacentes, ese valor de 'food_type' debería ser 'OPL 35 % # 5'."
   ]
  },
  {
   "cell_type": "code",
   "execution_count": 27,
   "metadata": {},
   "outputs": [],
   "source": [
    "data.loc[797, 'food_type'] = data.loc[796, 'food_type']"
   ]
  },
  {
   "cell_type": "code",
   "execution_count": 28,
   "metadata": {},
   "outputs": [
    {
     "name": "stdout",
     "output_type": "stream",
     "text": [
      "<class 'pandas.core.frame.DataFrame'>\n",
      "RangeIndex: 955 entries, 0 to 954\n",
      "Data columns (total 10 columns):\n",
      "date                          955 non-null datetime64[ns]\n",
      "pool_id                       955 non-null object\n",
      "day                           955 non-null int64\n",
      "shrimp_survival_proportion    955 non-null float64\n",
      "shrimp_population             955 non-null int64\n",
      "shrimp_grown                  955 non-null float64\n",
      "shrimp_biomass                955 non-null float64\n",
      "food_amount                   955 non-null float64\n",
      "food_type                     945 non-null object\n",
      "feeder_type                   945 non-null object\n",
      "dtypes: datetime64[ns](1), float64(4), int64(2), object(3)\n",
      "memory usage: 74.7+ KB\n"
     ]
    }
   ],
   "source": [
    "data.info()"
   ]
  },
  {
   "cell_type": "markdown",
   "metadata": {},
   "source": [
    "Data limpia :)"
   ]
  },
  {
   "cell_type": "code",
   "execution_count": 29,
   "metadata": {},
   "outputs": [],
   "source": [
    "data.to_pickle('shrimps')"
   ]
  },
  {
   "cell_type": "code",
   "execution_count": null,
   "metadata": {},
   "outputs": [],
   "source": []
  }
 ],
 "metadata": {
  "kernelspec": {
   "display_name": "Python 3",
   "language": "python",
   "name": "python3"
  },
  "language_info": {
   "codemirror_mode": {
    "name": "ipython",
    "version": 3
   },
   "file_extension": ".py",
   "mimetype": "text/x-python",
   "name": "python",
   "nbconvert_exporter": "python",
   "pygments_lexer": "ipython3",
   "version": "3.6.9"
  }
 },
 "nbformat": 4,
 "nbformat_minor": 2
}
